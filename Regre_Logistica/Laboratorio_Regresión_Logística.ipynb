{
  "cells": [
    {
      "cell_type": "markdown",
      "metadata": {
        "id": "5TxHbT9rT62D"
      },
      "source": [
        "# **1. Regresión Logística sin Regularización**"
      ]
    },
    {
      "cell_type": "code",
      "execution_count": 25,
      "metadata": {
        "colab": {
          "base_uri": "https://localhost:8080/",
          "height": 221
        },
        "id": "ezkO39CjThWw",
        "outputId": "20bd0a81-6d2b-4439-fb07-873a38a28691"
      },
      "outputs": [
        {
          "name": "stdout",
          "output_type": "stream",
          "text": [
            "Current Working Directory  /Users/juancisneros/Documents/USFQ/Sexto_Semestre/Machine_Learning/Regre_Logistica\n"
          ]
        },
        {
          "data": {
            "text/html": [
              "<div>\n",
              "<style scoped>\n",
              "    .dataframe tbody tr th:only-of-type {\n",
              "        vertical-align: middle;\n",
              "    }\n",
              "\n",
              "    .dataframe tbody tr th {\n",
              "        vertical-align: top;\n",
              "    }\n",
              "\n",
              "    .dataframe thead th {\n",
              "        text-align: right;\n",
              "    }\n",
              "</style>\n",
              "<table border=\"1\" class=\"dataframe\">\n",
              "  <thead>\n",
              "    <tr style=\"text-align: right;\">\n",
              "      <th></th>\n",
              "      <th>exam1_score</th>\n",
              "      <th>exam2_score</th>\n",
              "      <th>decision</th>\n",
              "    </tr>\n",
              "  </thead>\n",
              "  <tbody>\n",
              "    <tr>\n",
              "      <th>0</th>\n",
              "      <td>34.623660</td>\n",
              "      <td>78.024693</td>\n",
              "      <td>0</td>\n",
              "    </tr>\n",
              "    <tr>\n",
              "      <th>1</th>\n",
              "      <td>30.286711</td>\n",
              "      <td>43.894998</td>\n",
              "      <td>0</td>\n",
              "    </tr>\n",
              "    <tr>\n",
              "      <th>2</th>\n",
              "      <td>35.847409</td>\n",
              "      <td>72.902198</td>\n",
              "      <td>0</td>\n",
              "    </tr>\n",
              "    <tr>\n",
              "      <th>3</th>\n",
              "      <td>60.182599</td>\n",
              "      <td>86.308552</td>\n",
              "      <td>1</td>\n",
              "    </tr>\n",
              "    <tr>\n",
              "      <th>4</th>\n",
              "      <td>79.032736</td>\n",
              "      <td>75.344376</td>\n",
              "      <td>1</td>\n",
              "    </tr>\n",
              "  </tbody>\n",
              "</table>\n",
              "</div>"
            ],
            "text/plain": [
              "   exam1_score  exam2_score  decision\n",
              "0    34.623660    78.024693         0\n",
              "1    30.286711    43.894998         0\n",
              "2    35.847409    72.902198         0\n",
              "3    60.182599    86.308552         1\n",
              "4    79.032736    75.344376         1"
            ]
          },
          "execution_count": 25,
          "metadata": {},
          "output_type": "execute_result"
        }
      ],
      "source": [
        "import pandas as pd #pd solo es el alias\n",
        "import os #operating system\n",
        "print(\"Current Working Directory \" , os.getcwd())\n",
        "data = pd.read_csv('ex2data1.txt')\n",
        "data.head() #muestra los primeros 5 ejemplos\n"
      ]
    },
    {
      "cell_type": "markdown",
      "metadata": {
        "id": "GnkSoRFCItnu"
      },
      "source": [
        "Extraemos las columnas de características y guardamos en la variable `X`"
      ]
    },
    {
      "cell_type": "code",
      "execution_count": 26,
      "metadata": {
        "colab": {
          "base_uri": "https://localhost:8080/",
          "height": 204
        },
        "id": "0K6xvAThXwQ-",
        "outputId": "cc1a6cd3-544d-4fc7-c558-1d96da9b5c6b"
      },
      "outputs": [
        {
          "data": {
            "text/html": [
              "<div>\n",
              "<style scoped>\n",
              "    .dataframe tbody tr th:only-of-type {\n",
              "        vertical-align: middle;\n",
              "    }\n",
              "\n",
              "    .dataframe tbody tr th {\n",
              "        vertical-align: top;\n",
              "    }\n",
              "\n",
              "    .dataframe thead th {\n",
              "        text-align: right;\n",
              "    }\n",
              "</style>\n",
              "<table border=\"1\" class=\"dataframe\">\n",
              "  <thead>\n",
              "    <tr style=\"text-align: right;\">\n",
              "      <th></th>\n",
              "      <th>exam1_score</th>\n",
              "      <th>exam2_score</th>\n",
              "    </tr>\n",
              "  </thead>\n",
              "  <tbody>\n",
              "    <tr>\n",
              "      <th>0</th>\n",
              "      <td>34.623660</td>\n",
              "      <td>78.024693</td>\n",
              "    </tr>\n",
              "    <tr>\n",
              "      <th>1</th>\n",
              "      <td>30.286711</td>\n",
              "      <td>43.894998</td>\n",
              "    </tr>\n",
              "    <tr>\n",
              "      <th>2</th>\n",
              "      <td>35.847409</td>\n",
              "      <td>72.902198</td>\n",
              "    </tr>\n",
              "    <tr>\n",
              "      <th>3</th>\n",
              "      <td>60.182599</td>\n",
              "      <td>86.308552</td>\n",
              "    </tr>\n",
              "    <tr>\n",
              "      <th>4</th>\n",
              "      <td>79.032736</td>\n",
              "      <td>75.344376</td>\n",
              "    </tr>\n",
              "  </tbody>\n",
              "</table>\n",
              "</div>"
            ],
            "text/plain": [
              "   exam1_score  exam2_score\n",
              "0    34.623660    78.024693\n",
              "1    30.286711    43.894998\n",
              "2    35.847409    72.902198\n",
              "3    60.182599    86.308552\n",
              "4    79.032736    75.344376"
            ]
          },
          "execution_count": 26,
          "metadata": {},
          "output_type": "execute_result"
        }
      ],
      "source": [
        "X = data[['exam1_score','exam2_score']]\n",
        "X.head() #muestra los primeros 5 ejemplos"
      ]
    },
    {
      "cell_type": "code",
      "execution_count": 27,
      "metadata": {
        "colab": {
          "base_uri": "https://localhost:8080/",
          "height": 204
        },
        "id": "V0MEUkYlaHTx",
        "outputId": "55eda9cf-5c95-47ef-d479-6535c05eb2b6"
      },
      "outputs": [
        {
          "data": {
            "text/html": [
              "<div>\n",
              "<style scoped>\n",
              "    .dataframe tbody tr th:only-of-type {\n",
              "        vertical-align: middle;\n",
              "    }\n",
              "\n",
              "    .dataframe tbody tr th {\n",
              "        vertical-align: top;\n",
              "    }\n",
              "\n",
              "    .dataframe thead th {\n",
              "        text-align: right;\n",
              "    }\n",
              "</style>\n",
              "<table border=\"1\" class=\"dataframe\">\n",
              "  <thead>\n",
              "    <tr style=\"text-align: right;\">\n",
              "      <th></th>\n",
              "      <th>decision</th>\n",
              "    </tr>\n",
              "  </thead>\n",
              "  <tbody>\n",
              "    <tr>\n",
              "      <th>0</th>\n",
              "      <td>0</td>\n",
              "    </tr>\n",
              "    <tr>\n",
              "      <th>1</th>\n",
              "      <td>0</td>\n",
              "    </tr>\n",
              "    <tr>\n",
              "      <th>2</th>\n",
              "      <td>0</td>\n",
              "    </tr>\n",
              "    <tr>\n",
              "      <th>3</th>\n",
              "      <td>1</td>\n",
              "    </tr>\n",
              "    <tr>\n",
              "      <th>4</th>\n",
              "      <td>1</td>\n",
              "    </tr>\n",
              "  </tbody>\n",
              "</table>\n",
              "</div>"
            ],
            "text/plain": [
              "   decision\n",
              "0         0\n",
              "1         0\n",
              "2         0\n",
              "3         1\n",
              "4         1"
            ]
          },
          "execution_count": 27,
          "metadata": {},
          "output_type": "execute_result"
        }
      ],
      "source": [
        "y = data[['decision']]\n",
        "y.head()\n",
        "#type(y.shape)\n",
        "#y.values.ravel()\n",
        "#type(y.shape)"
      ]
    },
    {
      "cell_type": "code",
      "execution_count": 28,
      "metadata": {
        "colab": {
          "base_uri": "https://localhost:8080/",
          "height": 282
        },
        "id": "f8etCi4PbAik",
        "outputId": "e725c9a8-b121-4086-ebd8-7b1408f80add"
      },
      "outputs": [
        {
          "data": {
            "text/plain": [
              "<matplotlib.legend.Legend at 0x12e69f1d0>"
            ]
          },
          "execution_count": 28,
          "metadata": {},
          "output_type": "execute_result"
        },
        {
          "data": {
            "image/png": "[encoded data removed]",
            "text/plain": [
              "<Figure size 640x480 with 1 Axes>"
            ]
          },
          "metadata": {},
          "output_type": "display_data"
        }
      ],
      "source": [
        "import matplotlib.pyplot as plt\n",
        "\n",
        "# Visualizamos los datos de entrenamiento, donde los ejemplos positivos (admitidos) están marcados con un 1 y los negativos (no admitidos) con un 0.\n",
        "\n",
        "X_admitted = X[y['decision']==1] \n",
        "plt.scatter(X_admitted['exam1_score'], X_admitted['exam2_score'], label='Admitted')\n",
        "\n",
        "X_Not_admitted = X[y['decision']==0] \n",
        "plt.scatter(X_Not_admitted['exam1_score'], X_Not_admitted['exam2_score'], label='Not Admitted')\n",
        "plt.legend()"
      ]
    },
    {
      "cell_type": "code",
      "execution_count": 29,
      "metadata": {
        "colab": {
          "base_uri": "https://localhost:8080/"
        },
        "id": "ruLpwPTea0sM",
        "outputId": "cc303e8d-947b-4147-963c-eff826c427d7"
      },
      "outputs": [
        {
          "name": "stdout",
          "output_type": "stream",
          "text": [
            "[[0.22370987 0.77629013]\n",
            " [0.00608428 0.99391572]]\n"
          ]
        },
        {
          "name": "stderr",
          "output_type": "stream",
          "text": [
            "/usr/local/lib/python3.11/site-packages/sklearn/linear_model/_logistic.py:1173: FutureWarning: `penalty='none'`has been deprecated in 1.2 and will be removed in 1.4. To keep the past behaviour, set `penalty=None`.\n",
            "  warnings.warn(\n",
            "/usr/local/lib/python3.11/site-packages/sklearn/utils/validation.py:1143: DataConversionWarning: A column-vector y was passed when a 1d array was expected. Please change the shape of y to (n_samples, ), for example using ravel().\n",
            "  y = column_or_1d(y, warn=True)\n",
            "/usr/local/lib/python3.11/site-packages/sklearn/base.py:420: UserWarning: X does not have valid feature names, but LogisticRegression was fitted with feature names\n",
            "  warnings.warn(\n"
          ]
        }
      ],
      "source": [
        "from sklearn.linear_model import LogisticRegression\n",
        "import numpy as np # numpy~Matlab\n",
        "classifier = LogisticRegression(penalty='none').fit(X, y) #penalty='none' -> sin regularización , lambda =0, representación+eval+opt (Representación, evaluación y optimización en una sola función)\n",
        "xnew = np.array([[45, 85], [50, 99]]) # vamos a predecir la probabilidad de que un estudiante con 45 en el examen 1 y 85 en el examen 2 sea admitido y otro con 50 en el examen 1 y 99 en el examen 2\n",
        "proba = classifier.predict_proba(xnew) # predict_proba -> devuelve la probabilidad de que un ejemplo pertenezca a una clase u otra\n",
        "print(proba)"
      ]
    },
    {
      "cell_type": "code",
      "execution_count": 30,
      "metadata": {
        "colab": {
          "base_uri": "https://localhost:8080/"
        },
        "id": "Q2v2ONbYx74A",
        "outputId": "9b05ecf8-7489-4fb9-de3e-354e4cbc04e7"
      },
      "outputs": [
        {
          "name": "stdout",
          "output_type": "stream",
          "text": [
            "0.89\n"
          ]
        }
      ],
      "source": [
        "accuracy = classifier.score(X,y) #exactitud en el conjunto de entrenamiento\n",
        "print(accuracy)"
      ]
    },
    {
      "cell_type": "code",
      "execution_count": 31,
      "metadata": {
        "colab": {
          "base_uri": "https://localhost:8080/",
          "height": 404
        },
        "id": "hQgVc7KDzUtc",
        "outputId": "1fdb5840-c848-4534-c53f-7b9012117f68"
      },
      "outputs": [
        {
          "name": "stdout",
          "output_type": "stream",
          "text": [
            "Parámetros theta sin theta_0(bias):\n",
            "[[0.20623222 0.20147191]]\n",
            "bias (theta_0):\n",
            "[-25.16138567]\n"
          ]
        },
        {
          "name": "stderr",
          "output_type": "stream",
          "text": [
            "/usr/local/lib/python3.11/site-packages/sklearn/base.py:420: UserWarning: X does not have valid feature names, but LogisticRegression was fitted with feature names\n",
            "  warnings.warn(\n"
          ]
        },
        {
          "data": {
            "text/plain": [
              "<matplotlib.legend.Legend at 0x12dd971d0>"
            ]
          },
          "execution_count": 31,
          "metadata": {},
          "output_type": "execute_result"
        },
        {
          "data": {
            "image/png": "[encoded data removed]",
            "text/plain": [
              "<Figure size 640x480 with 1 Axes>"
            ]
          },
          "metadata": {},
          "output_type": "display_data"
        }
      ],
      "source": [
        "theta = classifier.coef_ #theta_1, theta_2, etc..\n",
        "bias = classifier.intercept_ #bias-> theta_0\n",
        "print('Parámetros theta sin theta_0(bias):')\n",
        "print(theta) #parámetros theta (sin el bias)\n",
        "print('bias (theta_0):')\n",
        "print(bias)\n",
        "\n",
        "import matplotlib.pyplot as plt\n",
        "\n",
        "xx, yy = np.mgrid[30:100:.1, 30:100:.1] # mgrid -> crea una malla de puntos, en este caso de 30 a 100 con un paso de 0.1\n",
        "grid = np.c_[xx.ravel(), yy.ravel()] # ravel -> devuelve una matriz aplanada, c_ -> concatena matrices\n",
        "probs = classifier.predict_proba(grid)[:, 1].reshape(xx.shape) `# predict_proba -> devuelve la probabilidad de que un ejemplo pertenezca a una clase u otra, [:, 1] -> devuelve la probabilidad de que un ejemplo pertenezca a la clase 1, reshape -> devuelve una matriz con la forma especificada\n",
        "plt.contourf(xx, yy, probs, 25, cmap=\"bwr\",\n",
        "                      vmin=0, vmax=1)\n",
        "X_admitted = X[y['decision']==1] \n",
        "plt.scatter(X_admitted['exam1_score'], X_admitted['exam2_score'], label='Admitted')\n",
        "X_Not_admitted = X[y['decision']==0] \n",
        "plt.scatter(X_Not_admitted['exam1_score'], X_Not_admitted['exam2_score'], label='Not Admitted')\n",
        "plt.legend()"
      ]
    },
    {
      "cell_type": "markdown",
      "metadata": {
        "id": "iQkkWtf53PSR"
      },
      "source": [
        "# **2. Regresión Logística Regularizada**\n"
      ]
    },
    {
      "cell_type": "code",
      "execution_count": 32,
      "metadata": {
        "colab": {
          "base_uri": "https://localhost:8080/",
          "height": 238
        },
        "id": "QpGp-0Ed3Vi9",
        "outputId": "4f8c0922-688f-4f61-e87b-4fa18d2035dc"
      },
      "outputs": [
        {
          "name": "stdout",
          "output_type": "stream",
          "text": [
            "Current Working Directory  /Users/juancisneros/Documents/USFQ/Sexto_Semestre/Machine_Learning/Regre_Logistica\n",
            "(118, 3)\n"
          ]
        },
        {
          "data": {
            "text/html": [
              "<div>\n",
              "<style scoped>\n",
              "    .dataframe tbody tr th:only-of-type {\n",
              "        vertical-align: middle;\n",
              "    }\n",
              "\n",
              "    .dataframe tbody tr th {\n",
              "        vertical-align: top;\n",
              "    }\n",
              "\n",
              "    .dataframe thead th {\n",
              "        text-align: right;\n",
              "    }\n",
              "</style>\n",
              "<table border=\"1\" class=\"dataframe\">\n",
              "  <thead>\n",
              "    <tr style=\"text-align: right;\">\n",
              "      <th></th>\n",
              "      <th>test1</th>\n",
              "      <th>test2</th>\n",
              "      <th>QA</th>\n",
              "    </tr>\n",
              "  </thead>\n",
              "  <tbody>\n",
              "    <tr>\n",
              "      <th>0</th>\n",
              "      <td>0.051267</td>\n",
              "      <td>0.69956</td>\n",
              "      <td>1</td>\n",
              "    </tr>\n",
              "    <tr>\n",
              "      <th>1</th>\n",
              "      <td>-0.092742</td>\n",
              "      <td>0.68494</td>\n",
              "      <td>1</td>\n",
              "    </tr>\n",
              "    <tr>\n",
              "      <th>2</th>\n",
              "      <td>-0.213710</td>\n",
              "      <td>0.69225</td>\n",
              "      <td>1</td>\n",
              "    </tr>\n",
              "    <tr>\n",
              "      <th>3</th>\n",
              "      <td>-0.375000</td>\n",
              "      <td>0.50219</td>\n",
              "      <td>1</td>\n",
              "    </tr>\n",
              "    <tr>\n",
              "      <th>4</th>\n",
              "      <td>-0.513250</td>\n",
              "      <td>0.46564</td>\n",
              "      <td>1</td>\n",
              "    </tr>\n",
              "  </tbody>\n",
              "</table>\n",
              "</div>"
            ],
            "text/plain": [
              "      test1    test2  QA\n",
              "0  0.051267  0.69956   1\n",
              "1 -0.092742  0.68494   1\n",
              "2 -0.213710  0.69225   1\n",
              "3 -0.375000  0.50219   1\n",
              "4 -0.513250  0.46564   1"
            ]
          },
          "execution_count": 32,
          "metadata": {},
          "output_type": "execute_result"
        }
      ],
      "source": [
        "import pandas as pd\n",
        "import os\n",
        "print(\"Current Working Directory \" , os. getcwd())\n",
        "data = pd.read_csv('ex2data2.txt')\n",
        "print(data.shape)\n",
        "data.head() #muestra los primeros 5 ejemplos\n"
      ]
    },
    {
      "cell_type": "code",
      "execution_count": 33,
      "metadata": {
        "colab": {
          "base_uri": "https://localhost:8080/",
          "height": 221
        },
        "id": "8DH6BQog38n5",
        "outputId": "2752507c-22cd-4af7-fd1d-e8317b6a6d2d"
      },
      "outputs": [
        {
          "name": "stdout",
          "output_type": "stream",
          "text": [
            "(118, 2)\n"
          ]
        },
        {
          "data": {
            "text/html": [
              "<div>\n",
              "<style scoped>\n",
              "    .dataframe tbody tr th:only-of-type {\n",
              "        vertical-align: middle;\n",
              "    }\n",
              "\n",
              "    .dataframe tbody tr th {\n",
              "        vertical-align: top;\n",
              "    }\n",
              "\n",
              "    .dataframe thead th {\n",
              "        text-align: right;\n",
              "    }\n",
              "</style>\n",
              "<table border=\"1\" class=\"dataframe\">\n",
              "  <thead>\n",
              "    <tr style=\"text-align: right;\">\n",
              "      <th></th>\n",
              "      <th>test1</th>\n",
              "      <th>test2</th>\n",
              "    </tr>\n",
              "  </thead>\n",
              "  <tbody>\n",
              "    <tr>\n",
              "      <th>0</th>\n",
              "      <td>0.051267</td>\n",
              "      <td>0.69956</td>\n",
              "    </tr>\n",
              "    <tr>\n",
              "      <th>1</th>\n",
              "      <td>-0.092742</td>\n",
              "      <td>0.68494</td>\n",
              "    </tr>\n",
              "    <tr>\n",
              "      <th>2</th>\n",
              "      <td>-0.213710</td>\n",
              "      <td>0.69225</td>\n",
              "    </tr>\n",
              "    <tr>\n",
              "      <th>3</th>\n",
              "      <td>-0.375000</td>\n",
              "      <td>0.50219</td>\n",
              "    </tr>\n",
              "    <tr>\n",
              "      <th>4</th>\n",
              "      <td>-0.513250</td>\n",
              "      <td>0.46564</td>\n",
              "    </tr>\n",
              "  </tbody>\n",
              "</table>\n",
              "</div>"
            ],
            "text/plain": [
              "      test1    test2\n",
              "0  0.051267  0.69956\n",
              "1 -0.092742  0.68494\n",
              "2 -0.213710  0.69225\n",
              "3 -0.375000  0.50219\n",
              "4 -0.513250  0.46564"
            ]
          },
          "execution_count": 33,
          "metadata": {},
          "output_type": "execute_result"
        }
      ],
      "source": [
        "X = data[['test1','test2']]\n",
        "print(X.shape)\n",
        "X.head()"
      ]
    },
    {
      "cell_type": "code",
      "execution_count": 34,
      "metadata": {
        "colab": {
          "base_uri": "https://localhost:8080/",
          "height": 204
        },
        "id": "NMk0EgiL4EbQ",
        "outputId": "e0d45b02-3ec1-43aa-f9fd-ef724a6c06e0"
      },
      "outputs": [
        {
          "data": {
            "text/html": [
              "<div>\n",
              "<style scoped>\n",
              "    .dataframe tbody tr th:only-of-type {\n",
              "        vertical-align: middle;\n",
              "    }\n",
              "\n",
              "    .dataframe tbody tr th {\n",
              "        vertical-align: top;\n",
              "    }\n",
              "\n",
              "    .dataframe thead th {\n",
              "        text-align: right;\n",
              "    }\n",
              "</style>\n",
              "<table border=\"1\" class=\"dataframe\">\n",
              "  <thead>\n",
              "    <tr style=\"text-align: right;\">\n",
              "      <th></th>\n",
              "      <th>QA</th>\n",
              "    </tr>\n",
              "  </thead>\n",
              "  <tbody>\n",
              "    <tr>\n",
              "      <th>0</th>\n",
              "      <td>1</td>\n",
              "    </tr>\n",
              "    <tr>\n",
              "      <th>1</th>\n",
              "      <td>1</td>\n",
              "    </tr>\n",
              "    <tr>\n",
              "      <th>2</th>\n",
              "      <td>1</td>\n",
              "    </tr>\n",
              "    <tr>\n",
              "      <th>3</th>\n",
              "      <td>1</td>\n",
              "    </tr>\n",
              "    <tr>\n",
              "      <th>4</th>\n",
              "      <td>1</td>\n",
              "    </tr>\n",
              "  </tbody>\n",
              "</table>\n",
              "</div>"
            ],
            "text/plain": [
              "   QA\n",
              "0   1\n",
              "1   1\n",
              "2   1\n",
              "3   1\n",
              "4   1"
            ]
          },
          "execution_count": 34,
          "metadata": {},
          "output_type": "execute_result"
        }
      ],
      "source": [
        "y = data[['QA']]\n",
        "y.head()"
      ]
    },
    {
      "cell_type": "code",
      "execution_count": 35,
      "metadata": {
        "colab": {
          "base_uri": "https://localhost:8080/",
          "height": 282
        },
        "id": "uOUAKUGC4Lhq",
        "outputId": "2acfa521-1bb2-412c-ef6e-e1f43a4f0f36"
      },
      "outputs": [
        {
          "data": {
            "text/plain": [
              "<matplotlib.legend.Legend at 0x12e969610>"
            ]
          },
          "execution_count": 35,
          "metadata": {},
          "output_type": "execute_result"
        },
        {
          "data": {
            "image/png": "[encoded data removed]",
            "text/plain": [
              "<Figure size 640x480 with 1 Axes>"
            ]
          },
          "metadata": {},
          "output_type": "display_data"
        }
      ],
      "source": [
        "import matplotlib.pyplot as plt\n",
        "\n",
        "X_admitted = X[y['QA']==1] \n",
        "plt.scatter(X_admitted['test1'], X_admitted['test2'], label='Pass')\n",
        "\n",
        "X_Not_admitted = X[y['QA']==0] \n",
        "plt.scatter(X_Not_admitted['test1'], X_Not_admitted['test2'], label='Not Pass')\n",
        "plt.legend()"
      ]
    },
    {
      "cell_type": "code",
      "execution_count": 36,
      "metadata": {
        "colab": {
          "base_uri": "https://localhost:8080/"
        },
        "id": "HqQ6wQJm4Wnj",
        "outputId": "a73b74a9-3f12-4686-e46f-ac1fa3597011"
      },
      "outputs": [
        {
          "name": "stdout",
          "output_type": "stream",
          "text": [
            "(118, 136)\n"
          ]
        }
      ],
      "source": [
        "import numpy as np\n",
        "from sklearn.preprocessing import PolynomialFeatures\n",
        "\n",
        "poly = PolynomialFeatures(degree=15) # x1*x2, x1*x2^2, ....x1^14*x2, degree es un hyperparameter (no tengo idea pero lanzo un grado alto)(overfitting)\n",
        "X_pol = poly.fit_transform(X)\n",
        "print(np.shape(X_pol)) # 118 ejemplos, 136 features (todas las combinaciones de los 2 features de grado 15)\n"
      ]
    },
    {
      "cell_type": "code",
      "execution_count": 37,
      "metadata": {
        "colab": {
          "base_uri": "https://localhost:8080/"
        },
        "id": "lSb-ziVc5oap",
        "outputId": "148efa65-1902-4e9f-997f-accbad5d1ac6"
      },
      "outputs": [
        {
          "name": "stderr",
          "output_type": "stream",
          "text": [
            "/usr/local/lib/python3.11/site-packages/sklearn/utils/validation.py:1143: DataConversionWarning: A column-vector y was passed when a 1d array was expected. Please change the shape of y to (n_samples, ), for example using ravel().\n",
            "  y = column_or_1d(y, warn=True)\n",
            "/usr/local/lib/python3.11/site-packages/sklearn/base.py:420: UserWarning: X does not have valid feature names, but PolynomialFeatures was fitted with feature names\n",
            "  warnings.warn(\n"
          ]
        },
        {
          "data": {
            "text/plain": [
              "array([[0.50830835, 0.49169165],\n",
              "       [0.50821824, 0.49178176]])"
            ]
          },
          "execution_count": 37,
          "metadata": {},
          "output_type": "execute_result"
        }
      ],
      "source": [
        "from sklearn.linear_model import LogisticRegression\n",
        "import numpy as np\n",
        "lambda_value = 10000 #hyperparameter \n",
        "classifier = LogisticRegression(penalty='l2', C=1/lambda_value, max_iter=10000).fit(X_pol, y) #spenalty='l2' -> con regularización \n",
        "xnew = np.array([[-0.75, -0.75], [0.25, 0.25]])\n",
        "classifier.predict_proba(poly.transform(xnew))\n"
      ]
    },
    {
      "cell_type": "code",
      "execution_count": 38,
      "metadata": {
        "colab": {
          "base_uri": "https://localhost:8080/"
        },
        "id": "yXFET9Ab7nw6",
        "outputId": "feb49167-6493-4112-a4ed-a512ffa33a25"
      },
      "outputs": [
        {
          "name": "stdout",
          "output_type": "stream",
          "text": [
            "0.5084745762711864\n",
            "0.5084745762711864\n"
          ]
        }
      ],
      "source": [
        "from sklearn.metrics import accuracy_score\n",
        "accuracy = classifier.score(X_pol,y) #umbral de 0.5 50%\n",
        "print(accuracy)\n",
        "\n",
        "proba = classifier.predict_proba(poly.transform(X))\n",
        "ypred = proba[:,1]>0.5 #umbral \n",
        "print(accuracy_score(y,ypred))"
      ]
    },
    {
      "cell_type": "code",
      "execution_count": 39,
      "metadata": {
        "colab": {
          "base_uri": "https://localhost:8080/",
          "height": 336
        },
        "id": "fHMGfULY6XJh",
        "outputId": "d61f0a00-5383-4c88-d4ad-223fe14c6210"
      },
      "outputs": [
        {
          "name": "stderr",
          "output_type": "stream",
          "text": [
            "/usr/local/lib/python3.11/site-packages/sklearn/base.py:420: UserWarning: X does not have valid feature names, but PolynomialFeatures was fitted with feature names\n",
            "  warnings.warn(\n"
          ]
        },
        {
          "data": {
            "text/plain": [
              "<matplotlib.legend.Legend at 0x12e9b7f50>"
            ]
          },
          "execution_count": 39,
          "metadata": {},
          "output_type": "execute_result"
        },
        {
          "data": {
            "image/png": "[encoded data removed]",
            "text/plain": [
              "<Figure size 640x480 with 1 Axes>"
            ]
          },
          "metadata": {},
          "output_type": "display_data"
        }
      ],
      "source": [
        "import matplotlib.pyplot as plt\n",
        "\n",
        "xx, yy = np.mgrid[-1:1.5:.01, -0.8:1.2:.01]\n",
        "grid = np.c_[xx.ravel(), yy.ravel()]\n",
        "probs = classifier.predict_proba(poly.transform(grid))[:, 1].reshape(xx.shape)\n",
        "plt.contourf(xx, yy, probs, 25, cmap=\"bwr\",\n",
        "                      vmin=0, vmax=1)\n",
        "X_admitted = X[y['QA']==1] \n",
        "plt.scatter(X_admitted['test1'], X_admitted['test2'], label='Pass')\n",
        "X_Not_admitted = X[y['QA']==0] \n",
        "plt.scatter(X_Not_admitted['test1'], X_Not_admitted['test2'], label='Not Pass')\n",
        "plt.legend()\n",
        "\n"
      ]
    },
    {
      "cell_type": "markdown",
      "metadata": {
        "id": "iBn-Q2oCFeNB"
      },
      "source": [
        "## **Actividad 1**\n",
        "\n",
        "En esta parte del ejercicio, podrá probar diferentes parámetros de regularización para el conjunto de datos para comprender cómo la regularización evita el sobreajuste.\n",
        "\n",
        "Observe los cambios en la frontera de decisión a medida que varía λ. Analice\n",
        "al menos los siguientes valores del parámetro de regularización, i.e., λ = 0.001, \n",
        "λ =1, λ = 10, λ = 100 y discuta sus resultados en términos de la frontera de decisión obtenida y la exactitud en el conjunto de entrenamiento.\n",
        "Obtenga y discuta los resultados del análisis pedido."
      ]
    },
    {
      "cell_type": "markdown",
      "metadata": {
        "id": "Ivs9HjpCEHnr"
      },
      "source": [
        "# **3. \"Churn\" en operadoras telefónicas**.\n",
        "\n",
        "\n",
        "Para esta parte del laboratorio, Vamos a usar el dataset disponible en [link text](https://www.kaggle.com/mnassrib/telecom-churn-datasets)\n",
        "\n",
        "Este dataset está compuesto de datos de la actividad de clientes de una operadora de telefonía. La columna `Churn` es la etiqueta o salida que se desea predecir. Cuando \"Churn\" es 1 significa que el cliente cambió de operadora. El objetivo es predecir si un cliente cambiará de operadora usando Regresión Logística.\n",
        "\n",
        "Este dataset contiene dos conjuntos: un conjunto de entrenamiento en el archivo `churn-bigml-80.csv` y un conjunto de test en el archivo `churn-bigml-20.csv`\n",
        "\n",
        "Primero vamos a leer el conjunto de entrenamiento y limpiarlo para obtener 18 características. También vamos a crear características polinómicas hasta orden 3 y posteriormente normalizaremos los datos. La normalización es necesaria porque las escalas de las características polinómicas es mucho mayor que las características originales.\n",
        "\n",
        "Luego de este proceso, nuestro conjunto de entrenamiento tendrá 2666 ejemplos con 1330 características. Recuerde que la salida es la columna `Churn`."
      ]
    },
    {
      "cell_type": "code",
      "execution_count": 40,
      "metadata": {
        "colab": {
          "base_uri": "https://localhost:8080/"
        },
        "id": "CTh17rVUEfb9",
        "outputId": "77a2cb44-8bdc-487c-c18e-f9753e1e0c66"
      },
      "outputs": [
        {
          "name": "stdout",
          "output_type": "stream",
          "text": [
            "Tamaño del dataset de entrenamiento original (2666, 18)\n",
            "Tamaño del dataset de entrenamiento con características polinómicas (2666, 1330)\n"
          ]
        }
      ],
      "source": [
        "import pandas as pd\n",
        "from sklearn import preprocessing\n",
        "from sklearn.preprocessing import PolynomialFeatures\n",
        "DataSet = pd.read_csv('churn-bigml-80.csv') #set de entrenamiento\n",
        "\n",
        "#limpieza de los datos\n",
        "DataSet = DataSet.drop(columns=[\"State\"]) #eliminamos la columna State\n",
        "DataSet['Churn'] = DataSet['Churn'].replace([False],0)\n",
        "DataSet['Churn'] = DataSet['Churn'].replace([True],1)\n",
        "DataSet['International plan'] = DataSet['International plan'].map({'Yes': 1, 'No': 0})\n",
        "DataSet['Voice mail plan'] = DataSet['Voice mail plan'].map({'Yes': 1, 'No': 0})\n",
        "\n",
        "Xtrain = DataSet.drop(columns=['Churn'])\n",
        "ytrain = DataSet['Churn']\n",
        "\n",
        "print(\"Tamaño del dataset de entrenamiento original\", Xtrain.shape)\n",
        "\n",
        "poly = PolynomialFeatures(degree=3)\n",
        "Xtrain_pol = poly.fit_transform(Xtrain)\n",
        "\n",
        "scaler = preprocessing.StandardScaler().fit(Xtrain_pol) #media cero, varianza 1\n",
        "Xtrain_pol_norm = scaler.transform(Xtrain_pol)\n",
        "\n",
        "print(\"Tamaño del dataset de entrenamiento con características polinómicas\", Xtrain_pol.shape)"
      ]
    },
    {
      "cell_type": "markdown",
      "metadata": {
        "id": "5YlYV0Z4lSK-"
      },
      "source": [
        "A continuación leeremos el conjunto de test y aplicaremos las mismas transformaciones usadas en el conjunto de entrenamiento: creación de características polinómicas y normalización."
      ]
    },
    {
      "cell_type": "code",
      "execution_count": null,
      "metadata": {
        "id": "92XY80xY9hxd"
      },
      "outputs": [],
      "source": []
    },
    {
      "cell_type": "code",
      "execution_count": 41,
      "metadata": {
        "colab": {
          "base_uri": "https://localhost:8080/"
        },
        "id": "lmIgSUqSKmy_",
        "outputId": "c79892bc-7470-478a-f8ba-4cafed1de23e"
      },
      "outputs": [
        {
          "name": "stdout",
          "output_type": "stream",
          "text": [
            "Tamaño del dataset de test con características polinómicas (667, 1330)\n"
          ]
        }
      ],
      "source": [
        "Dataset_test = pd.read_csv('churn-bigml-20.csv')\n",
        "Dataset_test = Dataset_test.drop(columns=[\"State\"])\n",
        "Dataset_test['Churn'] = Dataset_test['Churn'].replace([False],0)\n",
        "Dataset_test['Churn'] = Dataset_test['Churn'].replace([True],1)\n",
        "Dataset_test['International plan'] = Dataset_test['International plan'].map({'Yes': 1, 'No': 0})\n",
        "Dataset_test['Voice mail plan'] = Dataset_test['Voice mail plan'].map({'Yes': 1, 'No': 0})\n",
        "\n",
        "Xtest = Dataset_test.drop(columns=['Churn'])\n",
        "ytest = Dataset_test['Churn']\n",
        "\n",
        "Xtest_pol_norm = scaler.transform(poly.transform(Xtest))\n",
        "print (\"Tamaño del dataset de test con características polinómicas\", Xtest_pol_norm.shape)"
      ]
    },
    {
      "cell_type": "markdown",
      "metadata": {
        "id": "TSIqQeQAl0iS"
      },
      "source": [
        "## **Actividad 2**\n",
        "\n",
        "A partir del siguiente código base, cree un clasificador binario con regresión logística sin regularización. Reporte el valor de la exactitud en el conjunto de test (ver variable `accuracy_test`). Para asegurar que su clasificador tenga convergencia use `max_iter=10000` en los parámetros de la función de regresión logística,\n"
      ]
    },
    {
      "cell_type": "markdown",
      "metadata": {
        "id": "z1N2iLsLrrm8"
      },
      "source": []
    },
    {
      "cell_type": "code",
      "execution_count": 42,
      "metadata": {
        "id": "_CDrjifsGHnh"
      },
      "outputs": [
        {
          "ename": "SyntaxError",
          "evalue": "invalid syntax (3854001760.py, line 4)",
          "output_type": "error",
          "traceback": [
            "\u001b[0;36m  Cell \u001b[0;32mIn[42], line 4\u001b[0;36m\u001b[0m\n\u001b[0;31m    classifier =  #INSERTE AQUÍ CÓDIGO PARA SU CLASIFICADOR Xtrain_pol_norm\u001b[0m\n\u001b[0m                  ^\u001b[0m\n\u001b[0;31mSyntaxError\u001b[0m\u001b[0;31m:\u001b[0m invalid syntax\n"
          ]
        }
      ],
      "source": [
        "from sklearn.linear_model import LogisticRegression\n",
        "import numpy as np\n",
        "#entreno en churn-bigml-80.csv, pruebo (test) churn-bigml-20.csv\n",
        "classifier =  #INSERTE AQUÍ CÓDIGO PARA SU CLASIFICADOR Xtrain_pol_norm\n",
        "\n",
        "accuracy_test = classifier.score(Xtest_pol_norm,ytest)\n",
        "print(\"Exactitud en el conjunto de test:\", accuracy_test)"
      ]
    },
    {
      "cell_type": "markdown",
      "metadata": {
        "id": "1kpiNi2bmuiQ"
      },
      "source": [
        "## **Actividad 3**\n",
        "\n",
        "A partir del siguiente código base, cree un clasificador binario con regresión logística con regularización (el factor de regularización es la variable `lambda_value`). Reporte el valor de la exactitud en el conjunto de test (ver variable `accuracy_test`) para los siguientes valores de lambda: 1, 10, 100, 1000, 10000. Para asegurar que su clasificador tenga convergencia use `max_iter=10000` en los parámetros de la función de regresión logística,"
      ]
    },
    {
      "cell_type": "code",
      "execution_count": null,
      "metadata": {
        "id": "H-40uo8_mprc"
      },
      "outputs": [],
      "source": [
        "from sklearn.linear_model import LogisticRegression\n",
        "import numpy as np\n",
        "lambda_value = 1\n",
        "classifier =  #INSERTE AQUÍ CÓDIGO PARA SU CLASIFICADOR Xtrain_pol_norm\n",
        "\n",
        "accuracy_test = classifier.score(Xtest_pol_norm,ytest)\n",
        "print(\"Exactitud en el conjunto de test:\", accuracy_test)"
      ]
    },
    {
      "cell_type": "markdown",
      "metadata": {
        "id": "fbbisISPnXFv"
      },
      "source": [
        "## **Actividad 4**\n",
        "\n",
        "Cuál fue el mejor clasificador en términos de la exactitud en el conjunto de test? Discuta sus resultados."
      ]
    },
    {
      "cell_type": "markdown",
      "metadata": {
        "id": "iYa0wtLtejpC"
      },
      "source": [
        "# **4. Conclusiones**\n",
        "Concluya su trabajo con sus principales observaciones obtenidas de los resultados de sus experimentos\n"
      ]
    }
  ],
  "metadata": {
    "colab": {
      "provenance": []
    },
    "kernelspec": {
      "display_name": "Python 3",
      "language": "python",
      "name": "python3"
    },
    "language_info": {
      "codemirror_mode": {
        "name": "ipython",
        "version": 3
      },
      "file_extension": ".py",
      "mimetype": "text/x-python",
      "name": "python",
      "nbconvert_exporter": "python",
      "pygments_lexer": "ipython3",
      "version": "3.11.2"
    },
    "vscode": {
      "interpreter": {
        "hash": "1a1af0ee75eeea9e2e1ee996c87e7a2b11a0bebd85af04bb136d915cefc0abce"
      }
    }
  },
  "nbformat": 4,
  "nbformat_minor": 0
}
