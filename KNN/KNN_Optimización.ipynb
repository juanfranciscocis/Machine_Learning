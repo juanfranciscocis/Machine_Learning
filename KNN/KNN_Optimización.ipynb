{
  "cells": [
    {
      "cell_type": "markdown",
      "metadata": {
        "id": "IR56trFcPcC1"
      },
      "source": [
        "# Predicción de pérdida de clientes en Empresas de Servicios de Telecomunicaciones (Churn)\n",
        "\n",
        "Reducir las salidas y [deserciones de clientes](https://www.bain.com/insights/breaking-the-back-of-customer-churn/) se ha convertido en una alta prioridad para la mayoría de los proveedores de servicios de comunicaciones a medida que los mercados maduran y la competencia se intensifica.\n",
        "\n",
        "\n",
        "\n",
        "\n",
        "En este documento usaremos una base de datos de una empresa de telecomunicaciones anónima [disponibilizada por IBM](https://raw.githubusercontent.com/IBM/telco-customer-churn-on-icp4d/master/data/Telco-Customer-Churn.csv). \n",
        "\n",
        "El principal objetivo es crear un model de aprendizaje automático basado en KNN para predecir la pérdida o salida de clientes en una empresa de telecomunicaciones.\n"
      ]
    },
    {
      "cell_type": "markdown",
      "metadata": {
        "id": "KIOrnur9K8AJ"
      },
      "source": [
        "## Librerías"
      ]
    },
    {
      "cell_type": "code",
      "execution_count": 7,
      "metadata": {
        "id": "oEkDizrIK-kH"
      },
      "outputs": [],
      "source": [
        "# importing libraries\n",
        "import pandas as pd\n",
        "import numpy as np\n",
        "import matplotlib.pyplot as plt\n",
        "from sklearn.metrics import classification_report  \n",
        "from sklearn.metrics import confusion_matrix  \n",
        "from sklearn.metrics import accuracy_score\n",
        "from sklearn.metrics import roc_auc_score\n",
        "from sklearn.preprocessing import StandardScaler, LabelEncoder\n",
        "from sklearn.model_selection import train_test_split\n"
      ]
    },
    {
      "cell_type": "markdown",
      "metadata": {
        "id": "0HVmpIxQWT4Y"
      },
      "source": [
        "## Base de datos\n",
        "\n",
        "Este conjunto de datos contiene un total de 7043 clientes y 21 características de los mismos. De las entradas, 5174 son clientes activos y 1869 son clientes que la empresa ha perdido. Observe que el conjunto de datos está desbalanceado pues por cada cliente perdido existe casi 3 clientes activos. La variable de salida para nuestro modelo de machine learning será `Churn`."
      ]
    },
    {
      "cell_type": "code",
      "execution_count": 8,
      "metadata": {
        "colab": {
          "base_uri": "https://localhost:8080/",
          "height": 375
        },
        "id": "oQ4bNy7udtEE",
        "outputId": "009f2097-570c-4bba-e410-bb1515bfada3"
      },
      "outputs": [
        {
          "data": {
            "text/html": [
              "<div>\n",
              "<style scoped>\n",
              "    .dataframe tbody tr th:only-of-type {\n",
              "        vertical-align: middle;\n",
              "    }\n",
              "\n",
              "    .dataframe tbody tr th {\n",
              "        vertical-align: top;\n",
              "    }\n",
              "\n",
              "    .dataframe thead th {\n",
              "        text-align: right;\n",
              "    }\n",
              "</style>\n",
              "<table border=\"1\" class=\"dataframe\">\n",
              "  <thead>\n",
              "    <tr style=\"text-align: right;\">\n",
              "      <th></th>\n",
              "      <th>customerID</th>\n",
              "      <th>gender</th>\n",
              "      <th>SeniorCitizen</th>\n",
              "      <th>Partner</th>\n",
              "      <th>Dependents</th>\n",
              "      <th>tenure</th>\n",
              "      <th>PhoneService</th>\n",
              "      <th>MultipleLines</th>\n",
              "      <th>InternetService</th>\n",
              "      <th>OnlineSecurity</th>\n",
              "      <th>...</th>\n",
              "      <th>DeviceProtection</th>\n",
              "      <th>TechSupport</th>\n",
              "      <th>StreamingTV</th>\n",
              "      <th>StreamingMovies</th>\n",
              "      <th>Contract</th>\n",
              "      <th>PaperlessBilling</th>\n",
              "      <th>PaymentMethod</th>\n",
              "      <th>MonthlyCharges</th>\n",
              "      <th>TotalCharges</th>\n",
              "      <th>Churn</th>\n",
              "    </tr>\n",
              "  </thead>\n",
              "  <tbody>\n",
              "    <tr>\n",
              "      <th>0</th>\n",
              "      <td>7590-VHVEG</td>\n",
              "      <td>Female</td>\n",
              "      <td>0</td>\n",
              "      <td>Yes</td>\n",
              "      <td>No</td>\n",
              "      <td>1</td>\n",
              "      <td>No</td>\n",
              "      <td>No phone service</td>\n",
              "      <td>DSL</td>\n",
              "      <td>No</td>\n",
              "      <td>...</td>\n",
              "      <td>No</td>\n",
              "      <td>No</td>\n",
              "      <td>No</td>\n",
              "      <td>No</td>\n",
              "      <td>Month-to-month</td>\n",
              "      <td>Yes</td>\n",
              "      <td>Electronic check</td>\n",
              "      <td>29.85</td>\n",
              "      <td>29.85</td>\n",
              "      <td>No</td>\n",
              "    </tr>\n",
              "    <tr>\n",
              "      <th>1</th>\n",
              "      <td>5575-GNVDE</td>\n",
              "      <td>Male</td>\n",
              "      <td>0</td>\n",
              "      <td>No</td>\n",
              "      <td>No</td>\n",
              "      <td>34</td>\n",
              "      <td>Yes</td>\n",
              "      <td>No</td>\n",
              "      <td>DSL</td>\n",
              "      <td>Yes</td>\n",
              "      <td>...</td>\n",
              "      <td>Yes</td>\n",
              "      <td>No</td>\n",
              "      <td>No</td>\n",
              "      <td>No</td>\n",
              "      <td>One year</td>\n",
              "      <td>No</td>\n",
              "      <td>Mailed check</td>\n",
              "      <td>56.95</td>\n",
              "      <td>1889.5</td>\n",
              "      <td>No</td>\n",
              "    </tr>\n",
              "    <tr>\n",
              "      <th>2</th>\n",
              "      <td>3668-QPYBK</td>\n",
              "      <td>Male</td>\n",
              "      <td>0</td>\n",
              "      <td>No</td>\n",
              "      <td>No</td>\n",
              "      <td>2</td>\n",
              "      <td>Yes</td>\n",
              "      <td>No</td>\n",
              "      <td>DSL</td>\n",
              "      <td>Yes</td>\n",
              "      <td>...</td>\n",
              "      <td>No</td>\n",
              "      <td>No</td>\n",
              "      <td>No</td>\n",
              "      <td>No</td>\n",
              "      <td>Month-to-month</td>\n",
              "      <td>Yes</td>\n",
              "      <td>Mailed check</td>\n",
              "      <td>53.85</td>\n",
              "      <td>108.15</td>\n",
              "      <td>Yes</td>\n",
              "    </tr>\n",
              "    <tr>\n",
              "      <th>3</th>\n",
              "      <td>7795-CFOCW</td>\n",
              "      <td>Male</td>\n",
              "      <td>0</td>\n",
              "      <td>No</td>\n",
              "      <td>No</td>\n",
              "      <td>45</td>\n",
              "      <td>No</td>\n",
              "      <td>No phone service</td>\n",
              "      <td>DSL</td>\n",
              "      <td>Yes</td>\n",
              "      <td>...</td>\n",
              "      <td>Yes</td>\n",
              "      <td>Yes</td>\n",
              "      <td>No</td>\n",
              "      <td>No</td>\n",
              "      <td>One year</td>\n",
              "      <td>No</td>\n",
              "      <td>Bank transfer (automatic)</td>\n",
              "      <td>42.30</td>\n",
              "      <td>1840.75</td>\n",
              "      <td>No</td>\n",
              "    </tr>\n",
              "    <tr>\n",
              "      <th>4</th>\n",
              "      <td>9237-HQITU</td>\n",
              "      <td>Female</td>\n",
              "      <td>0</td>\n",
              "      <td>No</td>\n",
              "      <td>No</td>\n",
              "      <td>2</td>\n",
              "      <td>Yes</td>\n",
              "      <td>No</td>\n",
              "      <td>Fiber optic</td>\n",
              "      <td>No</td>\n",
              "      <td>...</td>\n",
              "      <td>No</td>\n",
              "      <td>No</td>\n",
              "      <td>No</td>\n",
              "      <td>No</td>\n",
              "      <td>Month-to-month</td>\n",
              "      <td>Yes</td>\n",
              "      <td>Electronic check</td>\n",
              "      <td>70.70</td>\n",
              "      <td>151.65</td>\n",
              "      <td>Yes</td>\n",
              "    </tr>\n",
              "  </tbody>\n",
              "</table>\n",
              "<p>5 rows × 21 columns</p>\n",
              "</div>"
            ],
            "text/plain": [
              "   customerID  gender  SeniorCitizen Partner Dependents  tenure PhoneService   \n",
              "0  7590-VHVEG  Female              0     Yes         No       1           No  \\\n",
              "1  5575-GNVDE    Male              0      No         No      34          Yes   \n",
              "2  3668-QPYBK    Male              0      No         No       2          Yes   \n",
              "3  7795-CFOCW    Male              0      No         No      45           No   \n",
              "4  9237-HQITU  Female              0      No         No       2          Yes   \n",
              "\n",
              "      MultipleLines InternetService OnlineSecurity  ... DeviceProtection   \n",
              "0  No phone service             DSL             No  ...               No  \\\n",
              "1                No             DSL            Yes  ...              Yes   \n",
              "2                No             DSL            Yes  ...               No   \n",
              "3  No phone service             DSL            Yes  ...              Yes   \n",
              "4                No     Fiber optic             No  ...               No   \n",
              "\n",
              "  TechSupport StreamingTV StreamingMovies        Contract PaperlessBilling   \n",
              "0          No          No              No  Month-to-month              Yes  \\\n",
              "1          No          No              No        One year               No   \n",
              "2          No          No              No  Month-to-month              Yes   \n",
              "3         Yes          No              No        One year               No   \n",
              "4          No          No              No  Month-to-month              Yes   \n",
              "\n",
              "               PaymentMethod MonthlyCharges  TotalCharges Churn  \n",
              "0           Electronic check          29.85         29.85    No  \n",
              "1               Mailed check          56.95        1889.5    No  \n",
              "2               Mailed check          53.85        108.15   Yes  \n",
              "3  Bank transfer (automatic)          42.30       1840.75    No  \n",
              "4           Electronic check          70.70        151.65   Yes  \n",
              "\n",
              "[5 rows x 21 columns]"
            ]
          },
          "execution_count": 8,
          "metadata": {},
          "output_type": "execute_result"
        }
      ],
      "source": [
        "# importamos dataset\n",
        "DATA_PATH = \"https://raw.githubusercontent.com/carlosfab/dsnp2/master/datasets/WA_Fn-UseC_-Telco-Customer-Churn.csv\"\n",
        "df = pd.read_csv(DATA_PATH)\n",
        "\n",
        "# vemos las primeras 5 filas\n",
        "df.head()"
      ]
    },
    {
      "cell_type": "markdown",
      "metadata": {
        "id": "CdmRQpzoL7Ts"
      },
      "source": [
        "### *Detalles de la base de datos*\n",
        "\n",
        "*\t`customerID` - Custumer unique identifier\n",
        "*\t`gender` - Customer gender - ['Female' 'Male']\n",
        "*\t`SeniorCitizen` - Elderly or retired person, a senior citizen is someone who has at least attained the age of 60 of 65 years\n",
        "*\t`Partner` - - ['No' 'Yes']\n",
        "*\t`Dependents` - If customer has dependents - ['No' 'Yes']\n",
        "*\t`Tenure` - Customer lifespan (in months)\n",
        "*\t`PhoneService` - - ['No' 'Yes']\n",
        "*\t`MultipleLines` - - ['No' 'No phone service' 'Yes']\n",
        "*\t`InternetService` - - ['No' 'No internet service' 'Yes']\n",
        "*\t`OnlineSecurity` - - ['No' 'No internet service' 'Yes']\n",
        "*\t`OnlineBackup` - - ['No' 'No internet service' 'Yes']\n",
        "*\t`DeviceProtection` - - ['No' 'No internet service' 'Yes']\n",
        "*\t`TechSupport` - - ['No' 'No internet service' 'Yes']\n",
        "*\t`StreamingTV` - - ['No' 'No internet service' 'Yes']\n",
        "*\t`StreamingMovies` -  - ['No' 'No internet service' 'Yes']\n",
        "*\t`Contract` - Type of contract - ['Month-to-month' 'One year' 'Two year']\n",
        "*\t`PaperlessBilling` - - ['No' 'Yes']\n",
        "*\t`PaymentMethod` - payment method - ['Bank transfer (automatic)', 'Credit card (automatic)', 'Electronic check', 'Mailed check']\n",
        "*\t`MonthlyCharges` - Monthly Recurring Charges\n",
        "*\t`TotalCharges` - Life time value\n",
        "*\t`Churn` - Churn value, the targer vector - ['No' 'Yes']\n",
        "\n",
        "\n",
        "\n"
      ]
    },
    {
      "cell_type": "markdown",
      "metadata": {
        "id": "eysbDSFF_365"
      },
      "source": [
        "### *Limpieza del Dataset*"
      ]
    },
    {
      "cell_type": "code",
      "execution_count": 9,
      "metadata": {
        "colab": {
          "base_uri": "https://localhost:8080/"
        },
        "id": "ue0r1_yYUOyt",
        "outputId": "0ae41ffa-a15e-4aef-f44b-cfe580f016e0"
      },
      "outputs": [
        {
          "name": "stdout",
          "output_type": "stream",
          "text": [
            "Dataset dimensions \n",
            "# Attributes:  21 \n",
            "# Entries:  7043 \n",
            "\n",
            "Churn No Instances:  5174\n",
            "Churn Yes Instances:  1869\n"
          ]
        }
      ],
      "source": [
        "def get_df_size(df, header='Dataset dimensions'):\n",
        "  print(header,\n",
        "        '\\n# Attributes: ', df.shape[1], \n",
        "        '\\n# Entries: ', df.shape[0],'\\n')\n",
        "  \n",
        "get_df_size(df)\n",
        "\n",
        "#df.info()\n",
        "\n",
        "# reemplaza valores en blanco por NaN \n",
        "df_clean = df.replace(r'^\\s*$', np.nan, regex=True)\n",
        "\n",
        "# reemplaza valores faltantes en TotalCharges por la mediana de TotalCharges.\n",
        "total_charges_median = df_clean.TotalCharges.median()\n",
        "df_clean['TotalCharges'].fillna(total_charges_median, inplace=True)\n",
        "df_clean['TotalCharges'] = df_clean['TotalCharges'].apply(pd.to_numeric)\n",
        "\n",
        "#CustomerID lo retiramos porque no es una característica\n",
        "df_clean = df_clean.drop('customerID', axis=1)\n",
        "df_clean.describe()\n",
        "\n",
        "print(\"Churn No Instances: \", df_clean[df_clean['Churn'] == 'No'].shape[0])\n",
        "print(\"Churn Yes Instances: \", df_clean[df_clean['Churn'] == 'Yes'].shape[0])\n"
      ]
    },
    {
      "cell_type": "markdown",
      "metadata": {
        "id": "JrFJspepWDJv"
      },
      "source": [
        "## Preparación de la Base de Datos\n",
        "\n",
        "\n",
        "\n",
        "\n",
        "\n",
        "\n"
      ]
    },
    {
      "cell_type": "code",
      "execution_count": 10,
      "metadata": {
        "colab": {
          "base_uri": "https://localhost:8080/",
          "height": 688
        },
        "id": "tIpA3ildqUP7",
        "outputId": "94eb52e2-ff8d-4dac-a9d3-e498b0cfaa6c"
      },
      "outputs": [
        {
          "name": "stdout",
          "output_type": "stream",
          "text": [
            "gender \n",
            " [0 1]\n",
            "SeniorCitizen \n",
            " [0 1]\n",
            "Partner \n",
            " [0 1]\n",
            "Dependents \n",
            " [0 1]\n",
            "PhoneService \n",
            " [0 1]\n",
            "PaperlessBilling \n",
            " [0 1]\n",
            "Churn \n",
            " [0 1]\n",
            "Original dataset: \n",
            "# Attributes:  21 \n",
            "# Entries:  7043 \n",
            "\n",
            "Processed dataset: \n",
            "# Attributes:  41 \n",
            "# Entries:  7043 \n",
            "\n"
          ]
        },
        {
          "data": {
            "text/html": [
              "<div>\n",
              "<style scoped>\n",
              "    .dataframe tbody tr th:only-of-type {\n",
              "        vertical-align: middle;\n",
              "    }\n",
              "\n",
              "    .dataframe tbody tr th {\n",
              "        vertical-align: top;\n",
              "    }\n",
              "\n",
              "    .dataframe thead th {\n",
              "        text-align: right;\n",
              "    }\n",
              "</style>\n",
              "<table border=\"1\" class=\"dataframe\">\n",
              "  <thead>\n",
              "    <tr style=\"text-align: right;\">\n",
              "      <th></th>\n",
              "      <th>gender</th>\n",
              "      <th>SeniorCitizen</th>\n",
              "      <th>Partner</th>\n",
              "      <th>Dependents</th>\n",
              "      <th>tenure</th>\n",
              "      <th>PhoneService</th>\n",
              "      <th>PaperlessBilling</th>\n",
              "      <th>MonthlyCharges</th>\n",
              "      <th>TotalCharges</th>\n",
              "      <th>Churn</th>\n",
              "      <th>...</th>\n",
              "      <th>StreamingMovies_No</th>\n",
              "      <th>StreamingMovies_No internet service</th>\n",
              "      <th>StreamingMovies_Yes</th>\n",
              "      <th>Contract_Month-to-month</th>\n",
              "      <th>Contract_One year</th>\n",
              "      <th>Contract_Two year</th>\n",
              "      <th>PaymentMethod_Bank transfer (automatic)</th>\n",
              "      <th>PaymentMethod_Credit card (automatic)</th>\n",
              "      <th>PaymentMethod_Electronic check</th>\n",
              "      <th>PaymentMethod_Mailed check</th>\n",
              "    </tr>\n",
              "  </thead>\n",
              "  <tbody>\n",
              "    <tr>\n",
              "      <th>0</th>\n",
              "      <td>0</td>\n",
              "      <td>0</td>\n",
              "      <td>1</td>\n",
              "      <td>0</td>\n",
              "      <td>1</td>\n",
              "      <td>0</td>\n",
              "      <td>1</td>\n",
              "      <td>29.85</td>\n",
              "      <td>29.85</td>\n",
              "      <td>0</td>\n",
              "      <td>...</td>\n",
              "      <td>True</td>\n",
              "      <td>False</td>\n",
              "      <td>False</td>\n",
              "      <td>True</td>\n",
              "      <td>False</td>\n",
              "      <td>False</td>\n",
              "      <td>False</td>\n",
              "      <td>False</td>\n",
              "      <td>True</td>\n",
              "      <td>False</td>\n",
              "    </tr>\n",
              "    <tr>\n",
              "      <th>1</th>\n",
              "      <td>1</td>\n",
              "      <td>0</td>\n",
              "      <td>0</td>\n",
              "      <td>0</td>\n",
              "      <td>34</td>\n",
              "      <td>1</td>\n",
              "      <td>0</td>\n",
              "      <td>56.95</td>\n",
              "      <td>1889.50</td>\n",
              "      <td>0</td>\n",
              "      <td>...</td>\n",
              "      <td>True</td>\n",
              "      <td>False</td>\n",
              "      <td>False</td>\n",
              "      <td>False</td>\n",
              "      <td>True</td>\n",
              "      <td>False</td>\n",
              "      <td>False</td>\n",
              "      <td>False</td>\n",
              "      <td>False</td>\n",
              "      <td>True</td>\n",
              "    </tr>\n",
              "    <tr>\n",
              "      <th>2</th>\n",
              "      <td>1</td>\n",
              "      <td>0</td>\n",
              "      <td>0</td>\n",
              "      <td>0</td>\n",
              "      <td>2</td>\n",
              "      <td>1</td>\n",
              "      <td>1</td>\n",
              "      <td>53.85</td>\n",
              "      <td>108.15</td>\n",
              "      <td>1</td>\n",
              "      <td>...</td>\n",
              "      <td>True</td>\n",
              "      <td>False</td>\n",
              "      <td>False</td>\n",
              "      <td>True</td>\n",
              "      <td>False</td>\n",
              "      <td>False</td>\n",
              "      <td>False</td>\n",
              "      <td>False</td>\n",
              "      <td>False</td>\n",
              "      <td>True</td>\n",
              "    </tr>\n",
              "    <tr>\n",
              "      <th>3</th>\n",
              "      <td>1</td>\n",
              "      <td>0</td>\n",
              "      <td>0</td>\n",
              "      <td>0</td>\n",
              "      <td>45</td>\n",
              "      <td>0</td>\n",
              "      <td>0</td>\n",
              "      <td>42.30</td>\n",
              "      <td>1840.75</td>\n",
              "      <td>0</td>\n",
              "      <td>...</td>\n",
              "      <td>True</td>\n",
              "      <td>False</td>\n",
              "      <td>False</td>\n",
              "      <td>False</td>\n",
              "      <td>True</td>\n",
              "      <td>False</td>\n",
              "      <td>True</td>\n",
              "      <td>False</td>\n",
              "      <td>False</td>\n",
              "      <td>False</td>\n",
              "    </tr>\n",
              "    <tr>\n",
              "      <th>4</th>\n",
              "      <td>0</td>\n",
              "      <td>0</td>\n",
              "      <td>0</td>\n",
              "      <td>0</td>\n",
              "      <td>2</td>\n",
              "      <td>1</td>\n",
              "      <td>1</td>\n",
              "      <td>70.70</td>\n",
              "      <td>151.65</td>\n",
              "      <td>1</td>\n",
              "      <td>...</td>\n",
              "      <td>True</td>\n",
              "      <td>False</td>\n",
              "      <td>False</td>\n",
              "      <td>True</td>\n",
              "      <td>False</td>\n",
              "      <td>False</td>\n",
              "      <td>False</td>\n",
              "      <td>False</td>\n",
              "      <td>True</td>\n",
              "      <td>False</td>\n",
              "    </tr>\n",
              "  </tbody>\n",
              "</table>\n",
              "<p>5 rows × 41 columns</p>\n",
              "</div>"
            ],
            "text/plain": [
              "   gender  SeniorCitizen  Partner  Dependents  tenure  PhoneService   \n",
              "0       0              0        1           0       1             0  \\\n",
              "1       1              0        0           0      34             1   \n",
              "2       1              0        0           0       2             1   \n",
              "3       1              0        0           0      45             0   \n",
              "4       0              0        0           0       2             1   \n",
              "\n",
              "   PaperlessBilling  MonthlyCharges  TotalCharges  Churn  ...   \n",
              "0                 1           29.85         29.85      0  ...  \\\n",
              "1                 0           56.95       1889.50      0  ...   \n",
              "2                 1           53.85        108.15      1  ...   \n",
              "3                 0           42.30       1840.75      0  ...   \n",
              "4                 1           70.70        151.65      1  ...   \n",
              "\n",
              "   StreamingMovies_No  StreamingMovies_No internet service   \n",
              "0                True                                False  \\\n",
              "1                True                                False   \n",
              "2                True                                False   \n",
              "3                True                                False   \n",
              "4                True                                False   \n",
              "\n",
              "   StreamingMovies_Yes  Contract_Month-to-month  Contract_One year   \n",
              "0                False                     True              False  \\\n",
              "1                False                    False               True   \n",
              "2                False                     True              False   \n",
              "3                False                    False               True   \n",
              "4                False                     True              False   \n",
              "\n",
              "   Contract_Two year  PaymentMethod_Bank transfer (automatic)   \n",
              "0              False                                    False  \\\n",
              "1              False                                    False   \n",
              "2              False                                    False   \n",
              "3              False                                     True   \n",
              "4              False                                    False   \n",
              "\n",
              "   PaymentMethod_Credit card (automatic)  PaymentMethod_Electronic check   \n",
              "0                                  False                            True  \\\n",
              "1                                  False                           False   \n",
              "2                                  False                           False   \n",
              "3                                  False                           False   \n",
              "4                                  False                            True   \n",
              "\n",
              "   PaymentMethod_Mailed check  \n",
              "0                       False  \n",
              "1                        True  \n",
              "2                        True  \n",
              "3                       False  \n",
              "4                       False  \n",
              "\n",
              "[5 rows x 41 columns]"
            ]
          },
          "execution_count": 10,
          "metadata": {},
          "output_type": "execute_result"
        }
      ],
      "source": [
        "binary_feat = df_clean.nunique()[df_clean.nunique() == 2].keys().tolist()\n",
        "numeric_feat = [col for col in df_clean.select_dtypes(['float','int']).columns.tolist() if col not in binary_feat]\n",
        "categorical_feat = [ col for col in df_clean.select_dtypes('object').columns.to_list() if col not in binary_feat + numeric_feat ]\n",
        "df_proc = df_clean.copy()\n",
        "#Etiquetas para características binarias\n",
        "le = LabelEncoder()\n",
        "for i in binary_feat:\n",
        "  df_proc[i] = le.fit_transform(df_proc[i])\n",
        "  print(i, '\\n', np.unique(df_proc[i].values))\n",
        "#Dummy variables\n",
        "df_proc = pd.get_dummies(df_proc, columns=categorical_feat)\n",
        "get_df_size(df, header='Original dataset:')\n",
        "get_df_size(df_proc, header='Processed dataset:')\n",
        "df_proc.head()"
      ]
    },
    {
      "cell_type": "markdown",
      "metadata": {
        "id": "K6O3SzEbhBTP"
      },
      "source": [
        "### *División en conjunto de entrenamiento y test*"
      ]
    },
    {
      "cell_type": "code",
      "execution_count": 11,
      "metadata": {
        "id": "xcqRX5MK0zHy"
      },
      "outputs": [],
      "source": [
        "# dividimos df_proc en características y salida\n",
        "X=df_proc.drop('Churn', axis=1)\n",
        "y=df_proc['Churn']\n",
        "\n",
        "# Dividimos el conjunto de entrenamiento y test\n",
        "X_train, X_test, y_train, y_test = train_test_split(X, y, stratify=y, test_size=0.2, random_state=42)"
      ]
    },
    {
      "cell_type": "markdown",
      "metadata": {
        "id": "WS6tkPN6shIN"
      },
      "source": [
        "## Modelo de Machine Learning"
      ]
    },
    {
      "cell_type": "markdown",
      "metadata": {
        "id": "L1dzetBB_h2-"
      },
      "source": [
        "### *Balanceo de datos*"
      ]
    },
    {
      "cell_type": "code",
      "execution_count": 12,
      "metadata": {
        "colab": {
          "base_uri": "https://localhost:8080/"
        },
        "id": "WL_1nk9KAJeu",
        "outputId": "62a5fd6b-cd1d-402a-a97b-2ed79e54e67c"
      },
      "outputs": [
        {
          "name": "stdout",
          "output_type": "stream",
          "text": [
            "Before balancing: \n",
            "# Attributes:  40 \n",
            "# Entries:  5634 \n",
            "\n",
            "After balancing: \n",
            "# Attributes:  40 \n",
            "# Entries:  2990 \n",
            "\n"
          ]
        },
        {
          "data": {
            "text/plain": [
              "(array([0, 1]), array([1495, 1495]))"
            ]
          },
          "execution_count": 12,
          "metadata": {},
          "output_type": "execute_result"
        }
      ],
      "source": [
        "# submuestreo -> under sampling\n",
        "from imblearn.under_sampling import RandomUnderSampler\n",
        "rus = RandomUnderSampler(random_state=1)\n",
        "X_train_rus, y_train_rus = rus.fit_resample(X_train, y_train)\n",
        "get_df_size(X_train, header='Before balancing:')\n",
        "get_df_size(X_train_rus, header='After balancing:')\n",
        "\n",
        "# verificamos que las categorias estén balanceadas\n",
        "np.unique(y_train_rus, return_counts=True)"
      ]
    },
    {
      "cell_type": "markdown",
      "metadata": {
        "id": "7kxTfX2p-SZG"
      },
      "source": [
        "### *Normalización de datos*"
      ]
    },
    {
      "cell_type": "code",
      "execution_count": 13,
      "metadata": {
        "id": "IurFZXJAyBv8"
      },
      "outputs": [],
      "source": [
        "# standardizing X_train and X_test\n",
        "scaler = StandardScaler()\n",
        "#X_train = scaler.fit_transform(X_train)\n",
        "X_train_rus = scaler.fit_transform(X_train_rus)\n",
        "X_test = scaler.transform(X_test)"
      ]
    },
    {
      "cell_type": "markdown",
      "metadata": {
        "id": "E9EX1wK9QEwG"
      },
      "source": [
        "### *Entrenamiento con KNN con valores predeterminados*"
      ]
    },
    {
      "cell_type": "code",
      "execution_count": 14,
      "metadata": {
        "id": "Ny-WXKs-QUvE"
      },
      "outputs": [
        {
          "name": "stdout",
          "output_type": "stream",
          "text": [
            "Recall test =  0.7727272727272727 , acc test =  0.6827537260468417\n",
            "Recall train =  0.8568561872909699 , acc train =  0.811371237458194\n"
          ]
        }
      ],
      "source": [
        "from sklearn.neighbors import KNeighborsClassifier\n",
        "import sklearn.metrics as metrics\n",
        "knn = KNeighborsClassifier() #Representar, valor de k predeterminado es 5 vecinos, ponderac uniforme (sin ponderac)\n",
        "\n",
        "knn.fit(X_train_rus, y_train_rus) #entrenamiento\n",
        "\n",
        "#performance conjunto de test\n",
        "pred_test = knn.predict(X_test)\n",
        "acc_test = metrics.accuracy_score(y_test, pred_test)\n",
        "recall_test = metrics.recall_score(y_test, pred_test)\n",
        "print(\"Recall test = \", recall_test, \", acc test = \", acc_test)\n",
        "\n",
        "#performance conjunto de entrenamiento\n",
        "pred_train = knn.predict(X_train_rus)\n",
        "acc_train = metrics.accuracy_score(y_train_rus, pred_train)\n",
        "recall_train = metrics.recall_score(y_train_rus, pred_train)\n",
        "print(\"Recall train = \", recall_train, \", acc train = \", acc_train)\n",
        "\n"
      ]
    },
    {
      "cell_type": "markdown",
      "metadata": {
        "id": "-GBl5ktaY-oN"
      },
      "source": [
        "### Actividad: Optimización de Hiperparámetros KNN"
      ]
    },
    {
      "cell_type": "markdown",
      "metadata": {
        "id": "JyfrNoJLZOPh"
      },
      "source": [
        "Use 5-fold cross-validation (ver `GridSearchCV` y  `StratifiedKFold`) para optimizar los siguientes hiperparámetros de KNN en el conjunto de entrenamiento balanceado (`X_train_rus`, `y_train_rus`):\n",
        "\n",
        "1. Ponderación de vecinos: sin ponderación, ponderación del inverso de la distancia\n",
        "2. Número de vecinos: rango 1 a 100.\n",
        "3. Métricas de distancia: euclideana, manhattan, coseno\n",
        "\n",
        "Para la optimización de hiperparámetros utilice como métrica al recall.\n",
        "\n",
        "Una vez optimizados los hiperparámetros, reentrene su clasificador de kNN con los mejores hiperparámetros encontrados. Finalmente, evalúe este último clasificador en el conjunto de test ('X_test', 'y_test'.)\n"
      ]
    },
    {
      "cell_type": "code",
      "execution_count": 17,
      "metadata": {
        "id": "Q0IRdACnazXQ"
      },
      "outputs": [
        {
          "name": "stdout",
          "output_type": "stream",
          "text": [
            "Mejores parámetros:  {'metric': 'euclidean', 'n_neighbors': 99, 'weights': 'distance'}\n",
            "Mejor score:  0.8648411633109621\n",
            "Recall test =  0.839572192513369 , acc test =  0.6678495386799148\n",
            "Recall train =  0.9973244147157191 , acc train =  0.9986622073578595\n",
            "Recall test =  0.839572192513369 , acc test =  0.6678495386799148\n"
          ]
        }
      ],
      "source": [
        "# k-fold cross validation (GrdSearchCV y StratifiedKFold)\n",
        "from sklearn.model_selection import GridSearchCV\n",
        "from sklearn.model_selection import StratifiedKFold\n",
        "from sklearn.model_selection import cross_val_score\n",
        "\n",
        "#1. Ponderación de vecinos: sin ponderación, ponderación del inverso de la distancia\n",
        "#2. Número de vecinos: rango 1 a 100.\n",
        "#3. Métricas de distancia: euclideana, manhattan, coseno\n",
        "\n",
        "#Definimos la grilla de parámetros\n",
        "param_grid = {'n_neighbors': np.arange(1, 100),\n",
        "                'weights': ['uniform', 'distance'],\n",
        "                'metric': ['euclidean', 'manhattan', 'cosine']}\n",
        "#Definimos el modelo\n",
        "knn = KNeighborsClassifier()\n",
        "#Definimos el método de validación cruzada\n",
        "cv = StratifiedKFold(n_splits=10, shuffle=True, random_state=42)\n",
        "#Definimos la búsqueda por grilla\n",
        "knn_grid = GridSearchCV(knn, param_grid, cv=cv, scoring='recall', n_jobs=-1)\n",
        "#Ajustamos el modelo\n",
        "knn_grid.fit(X_train_rus, y_train_rus)\n",
        "#Mejores parámetros\n",
        "print(\"Mejores parámetros: \", knn_grid.best_params_)\n",
        "#Mejor score\n",
        "print(\"Mejor score: \", knn_grid.best_score_)\n",
        "#Mejor modelo\n",
        "best_model = knn_grid.best_estimator_\n",
        "#Predicciones\n",
        "pred_test = best_model.predict(X_test)\n",
        "#Performance\n",
        "acc_test = metrics.accuracy_score(y_test, pred_test)\n",
        "recall_test = metrics.recall_score(y_test, pred_test)\n",
        "print(\"Recall test = \", recall_test, \", acc test = \", acc_test)\n",
        "\n",
        "# performance conjunto de entrenamiento\n",
        "pred_train = best_model.predict(X_train_rus)\n",
        "acc_train = metrics.accuracy_score(y_train_rus, pred_train)\n",
        "recall_train = metrics.recall_score(y_train_rus, pred_train)\n",
        "print(\"Recall train = \", recall_train, \", acc train = \", acc_train)\n",
        "\n",
        "# performance conjunto de test\n",
        "pred_test = best_model.predict(X_test)\n",
        "acc_test = metrics.accuracy_score(y_test, pred_test)\n",
        "recall_test = metrics.recall_score(y_test, pred_test)\n",
        "print(\"Recall test = \", recall_test, \", acc test = \", acc_test)\n"
      ]
    },
    {
      "cell_type": "code",
      "execution_count": null,
      "metadata": {},
      "outputs": [],
      "source": []
    }
  ],
  "metadata": {
    "colab": {
      "provenance": []
    },
    "kernelspec": {
      "display_name": "Python 3",
      "name": "python3"
    },
    "language_info": {
      "codemirror_mode": {
        "name": "ipython",
        "version": 3
      },
      "file_extension": ".py",
      "mimetype": "text/x-python",
      "name": "python",
      "nbconvert_exporter": "python",
      "pygments_lexer": "ipython3",
      "version": "3.9.6"
    }
  },
  "nbformat": 4,
  "nbformat_minor": 0
}
